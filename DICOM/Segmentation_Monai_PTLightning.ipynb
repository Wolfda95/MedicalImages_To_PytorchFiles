{
 "cells": [
  {
   "cell_type": "code",
   "execution_count": 1,
   "metadata": {
    "tags": []
   },
   "outputs": [
    {
     "name": "stdout",
     "output_type": "stream",
     "text": [
      "MONAI version: 0.6.0\n",
      "Numpy version: 1.20.2\n",
      "Pytorch version: 1.9.0\n",
      "MONAI flags: HAS_EXT = False, USE_COMPILED = False\n",
      "MONAI rev id: 0ad9e73639e30f4f1af5a1f4a45da9cb09930179\n",
      "\n",
      "Optional dependencies:\n",
      "Pytorch Ignite version: 0.4.5\n",
      "Nibabel version: 3.0.2\n",
      "scikit-image version: NOT INSTALLED or UNKNOWN VERSION.\n",
      "Pillow version: 8.2.0\n",
      "Tensorboard version: 2.2.0\n",
      "gdown version: 3.10.1\n",
      "TorchVision version: 0.2.2\n",
      "ITK version: NOT INSTALLED or UNKNOWN VERSION.\n",
      "tqdm version: 4.61.1\n",
      "lmdb version: 1.2.1\n",
      "psutil version: 5.8.0\n",
      "pandas version: 1.2.4\n",
      "einops version: NOT INSTALLED or UNKNOWN VERSION.\n",
      "\n",
      "For details about installing the optional dependencies, please visit:\n",
      "    https://docs.monai.io/en/latest/installation.html#installing-the-recommended-dependencies\n",
      "\n"
     ]
    }
   ],
   "source": [
    "# Copyright 2020 MONAI Consortium\n",
    "# Licensed under the Apache License, Version 2.0 (the \"License\");\n",
    "# you may not use this file except in compliance with the License.\n",
    "# You may obtain a copy of the License at\n",
    "#     http://www.apache.org/licenses/LICENSE-2.0\n",
    "# Unless required by applicable law or agreed to in writing, software\n",
    "# distributed under the License is distributed on an \"AS IS\" BASIS,\n",
    "# WITHOUT WARRANTIES OR CONDITIONS OF ANY KIND, either express or implied.\n",
    "# See the License for the specific language governing permissions and\n",
    "# limitations under the License.\n",
    "\n",
    "\n",
    "# Der ganze Monai shit\n",
    "from monai.utils import set_determinism\n",
    "from monai.transforms import (\n",
    "    AsDiscrete,\n",
    "    AddChanneld,\n",
    "    Compose,\n",
    "    CropForegroundd,\n",
    "    LoadImaged,\n",
    "    Orientationd,\n",
    "    RandCropByPosNegLabeld,\n",
    "    ScaleIntensityRanged,\n",
    "    Spacingd,\n",
    "    EnsureTyped,\n",
    "    EnsureType,\n",
    ")\n",
    "from monai.networks.nets import UNet\n",
    "from monai.networks.layers import Norm\n",
    "from monai.metrics import DiceMetric\n",
    "from monai.losses import DiceLoss\n",
    "from monai.inferers import sliding_window_inference\n",
    "from monai.data import CacheDataset, list_data_collate, decollate_batch\n",
    "from monai.config import print_config\n",
    "from monai.apps import download_and_extract\n",
    "\n",
    "# PyTorch und PyTorch Lighning\n",
    "import torch\n",
    "import pytorch_lightning\n",
    "from pytorch_lightning.callbacks.model_checkpoint \\\n",
    "    import ModelCheckpoint\n",
    "\n",
    "# Weiteres\n",
    "import matplotlib.pyplot as plt\n",
    "import tempfile\n",
    "import shutil\n",
    "import os\n",
    "import glob\n",
    "from torchsummary import summary # Größe des Netzes anzeigen\n",
    "\n",
    "# eigenes Python File (PT_Dataset.py) zum Daten laden \n",
    "from pt_dataset import TorchDataset #*******************************************************************************\n",
    "\n",
    "print_config()"
   ]
  },
  {
   "cell_type": "code",
   "execution_count": 2,
   "metadata": {},
   "outputs": [
    {
     "name": "stdout",
     "output_type": "stream",
     "text": [
      "/home/wolfda/Clinic_Data/Data/Leber/Networks\n",
      "Model: A | Versuch: 0 | Netz: Unet | Epochen: 90 | Learning Rate: 0.001 | Dropout Prob: 0.3 | Train Bs: 2 | Optimizer: Adam\n"
     ]
    }
   ],
   "source": [
    "# FESTLEGEN\n",
    "\n",
    "# ACHTUNG: UNet mit strides=(2, 2, 2, 2): 2*2*2*2=16 -> x,y,z der Bilder muss durch 16 teilbar sein!!!!!!!!!!!\n",
    "\n",
    "# Ordner wo die Ergebnisse gespeichert werden\n",
    "root_dir = \"/home/wolfda/Clinic_Data/Data/Leber/Networks\"\n",
    "print(root_dir)\n",
    "\n",
    "# Daten Train / Val  [für beide: .pt file, \"vol\": Bild, \"class\": lable]\n",
    "train = \"/home/wolfda/Clinic_Data/Data/Leber/Python_net/48_64_64/train\"\n",
    "val = \"/home/wolfda/Clinic_Data/Data/Leber/Python_net/48_64_64/val\"\n",
    "\n",
    "# TORCH DATASET: unsqueeze(0) ja (Weil Daten ohen abgespeichert) | .float() ja (Weil Daten ohen abgespeichert)\n",
    "\n",
    "# Festlegen\n",
    "Model = \"A\"  # NEUES MODEL: zählen A,B;C,..\n",
    "Versuch = \"0\" # NEUER VERSUCH: nummerieren 0,1,2,3 (alle versuche eines Models erschinen zusammen um tb)\n",
    "# Speicherort Model: save - model*[A,B,C,..] - Versuch*[0,1,2,...]_epoch* - last.ckpt || TB logs: save - model*[A,B,C,..] - logs - default - version*[0,1,2,...]\n",
    "network = \"Unet\"\n",
    "Epochen = 90 # Wieviele Epochen \n",
    "lr = 1e-3 # Learning rate\n",
    "db = 0.3 # Dropout prob[0-1]\n",
    "train_bs = 2 # Batch Size Training\n",
    "optim = \"Adam\" # Optimizer \n",
    "\n",
    "print(\"Model:\", Model, \"| Versuch:\", Versuch, \"| Netz:\", network, \"| Epochen:\", Epochen, \"| Learning Rate:\", lr, \"| Dropout Prob:\", db, \"| Train Bs:\", train_bs,\"| Optimizer:\", optim)\n",
    "\n",
    "info={\"Path\": root_dir, \"Train\": train, \"Model\": Model, \"Versuch\": Versuch, \"Network\": network, \"Epochen\": Epochen, \"Learning Rate\": lr, \"Dropout Prob\": db, \"Train Bs\": train_bs, \"Optimizer\": optim}"
   ]
  },
  {
   "cell_type": "code",
   "execution_count": 3,
   "metadata": {
    "tags": []
   },
   "outputs": [],
   "source": [
    "class Net(pytorch_lightning.LightningModule):\n",
    "    def __init__(self):\n",
    "        super().__init__()\n",
    "        self._model = UNet(\n",
    "            dimensions=3, # 3D \n",
    "            in_channels=1, # Anzahl Channel In\n",
    "            out_channels=1, # Anzahl Channel Out\n",
    "            channels=(16, 32, 64, 128, 256),\n",
    "            strides=(2, 2, 2, 2),\n",
    "            num_res_units=2,\n",
    "            norm=Norm.BATCH,\n",
    "        )\n",
    "        self.loss_function = DiceLoss(to_onehot_y=True, softmax=True)\n",
    "        self.post_pred = Compose([EnsureType(), AsDiscrete(argmax=True, to_onehot=True, n_classes=2)])\n",
    "        self.post_label = Compose([EnsureType(), AsDiscrete(to_onehot=True, n_classes=2)])\n",
    "        self.dice_metric = DiceMetric(include_background=False, reduction=\"mean\", get_not_nans=False)\n",
    "        self.best_val_dice = 0\n",
    "        self.best_val_epoch = 0\n",
    "        \n",
    "        summary(self._model, input_size=(1, 1, 56, 802, 802))\n",
    "\n",
    "    def forward(self, x):\n",
    "        return self._model(x)\n",
    "\n",
    "    def prepare_data(self):\n",
    "        \n",
    "        set_determinism(seed=0)\n",
    "\n",
    "        # Erstellt Dataset (Pfad in dem alle Bilder + lable liegen ([vol, class]) übergeben)\n",
    "        self.train_ds = TorchDataset(train, augmentations=False) # (PT_Dataset.py) ************************************************\n",
    "        self.val_ds = TorchDataset(val, augmentations=False)\n",
    "        print(\"Train Data Size\", len(self.train_ds))\n",
    "  \n",
    "\n",
    "    def train_dataloader(self):\n",
    "        train_loader = torch.utils.data.DataLoader(\n",
    "            self.train_ds, batch_size=train_bs, shuffle=True,\n",
    "            num_workers=10, collate_fn=list_data_collate,\n",
    "        )\n",
    "        print(\"Train Data Loader | Bs:\", train_bs, \"| len\",  len(train_loader))\n",
    "        return train_loader\n",
    "\n",
    "    def val_dataloader(self):\n",
    "        val_loader = torch.utils.data.DataLoader(\n",
    "            self.val_ds, batch_size=1, num_workers=10)\n",
    "        print(\"Val Data Loader\", len(val_loader))\n",
    "        return val_loader\n",
    "    \n",
    "    def test_dataloader(self): # self.val_ds wenn man wirklich testen will\n",
    "        test_loader = torch.utils.data.DataLoader(\n",
    "            self.val_ds, batch_size=1, num_workers=10)\n",
    "        return test_loader\n",
    "\n",
    "    def configure_optimizers(self):\n",
    "        if optim == \"Adam\":\n",
    "            optimizer = torch.optim.Adam(self._model.parameters(), lr)\n",
    "        return optimizer\n",
    "\n",
    "    def training_step(self, batch, batch_idx):\n",
    "        images, labels = batch # [bs, 1, 48, 64, 64], [bs, 1, 48, 64, 64] \n",
    "        print(\"Training\", images.shape, labels.shape)\n",
    "        \n",
    "        output = self.forward(images)# [bs, 4] (bs, classes = 4)\n",
    "        #print(\"Train Outputs\", output)\n",
    "        #print(\"Train Labels\", labels)\n",
    "        \n",
    "        loss = self.loss_function(output, labels)\n",
    "        tensorboard_logs = {\"train_loss\": loss.item()}\n",
    "        \n",
    "        return {\"loss\": loss, \"log\": tensorboard_logs}\n",
    "    \n",
    "    def training_epoch_end(self, outputs): # outputs = Elemente im train Dataset  x {\"loss\": loss, \"log\": tensorboard_logs}\n",
    "        #print(\"All Train Losses\", outputs)\n",
    "        train_loss, num_items = 0, 0\n",
    "        \n",
    "        for output in outputs: # Durchläuft alle elemete im train Dataset \n",
    "            #print(\"Nummer:\", num_items)\n",
    "            \n",
    "            #print(\"Train Loss\", output[\"loss\"].sum().item())\n",
    "            train_loss += output[\"loss\"].sum().item() # Alle Losse aufaddieren \n",
    "            num_items += 1\n",
    "            \n",
    "        mean_train_loss = torch.tensor(train_loss / num_items) # mittlerer Loss\n",
    "        print(\"Train Loss Mean\", mean_train_loss)\n",
    "        \n",
    "        tensorboard_logs = {\n",
    "            \"training_loss\": mean_train_loss,\n",
    "        }\n",
    "        \n",
    "        return {\"log\": tensorboard_logs}\n",
    "\n",
    "    def validation_step(self, batch, batch_idx):\n",
    "        images, labels = batch # [1, 1, 48, 64, 64], [1, 1, 48, 64, 64]  \n",
    "        #print(\"Val\", images.shape, labels.shape)\n",
    "        \n",
    "        roi_size = (160, 160, 160)\n",
    "        sw_batch_size = 4\n",
    "        outputs = sliding_window_inference(\n",
    "            images, roi_size, sw_batch_size, self.forward)\n",
    "        loss = self.loss_function(outputs, labels)\n",
    "        outputs = [self.post_pred(i) for i in decollate_batch(outputs)]\n",
    "        labels = [self.post_label(i) for i in decollate_batch(labels)]\n",
    "        self.dice_metric(y_pred=outputs, y=labels)\n",
    "        print(loss)\n",
    "        return {\"val_loss\": loss, \"val_number\": len(outputs)}\n",
    "\n",
    "    def validation_epoch_end(self, outputs):\n",
    "        val_loss, num_items = 0, 0\n",
    "        \n",
    "        for output in outputs:\n",
    "            val_loss += output[\"val_loss\"].sum().item()\n",
    "            num_items += output[\"val_number\"]\n",
    "        mean_val_dice = self.dice_metric.aggregate().item()\n",
    "        self.dice_metric.reset()\n",
    "        mean_val_loss = torch.tensor(val_loss / num_items)\n",
    "        tensorboard_logs = {\n",
    "            \"val_dice\": mean_val_dice,\n",
    "            \"val_loss\": mean_val_loss,\n",
    "        }\n",
    "        if mean_val_dice > self.best_val_dice:\n",
    "            self.best_val_dice = mean_val_dice\n",
    "            self.best_val_epoch = self.current_epoch\n",
    "        print(\n",
    "            f\"current epoch: {self.current_epoch} \"\n",
    "            f\"current mean dice: {mean_val_dice:.4f}\"\n",
    "            f\"\\nbest mean dice: {self.best_val_dice:.4f} \"\n",
    "            f\"at epoch: {self.best_val_epoch}\"\n",
    "        )\n",
    "        return {\"log\": tensorboard_logs}\n",
    "    \n",
    "    def test_step(self, batch, batch_idx):\n",
    "        images, labels = batch # [bs, 1, 48, 64, 64], [bs, 1, 48, 64, 64] \n",
    "        #print(\"Val\", images.shape, labels.shape)\n",
    "        \n",
    "        roi_size = (160, 160, 160)\n",
    "        sw_batch_size = 4\n",
    "        outputs = sliding_window_inference(\n",
    "            images, roi_size, sw_batch_size, self.forward)\n",
    "        loss = self.loss_function(outputs, labels)\n",
    "        outputs = [self.post_pred(i) for i in decollate_batch(outputs)]\n",
    "        labels = [self.post_label(i) for i in decollate_batch(labels)]\n",
    "        self.dice_metric(y_pred=outputs, y=labels)\n",
    "        print(loss)\n",
    "        return {\"test_loss\": loss, \"test_number\": len(outputs)}\n",
    "\n",
    "    def test_epoch_end(self, outputs):\n",
    "        val_loss, num_items = 0, 0\n",
    "        \n",
    "        for output in outputs:\n",
    "            val_loss += output[\"test_loss\"].sum().item()\n",
    "            num_items += output[\"test_number\"]\n",
    "        mean_val_dice = self.dice_metric.aggregate().item()\n",
    "        self.dice_metric.reset()\n",
    "        mean_val_loss = torch.tensor(val_loss / num_items)\n",
    "        tensorboard_logs = {\n",
    "            \"test_dice\": mean_val_dice,\n",
    "            \"test_loss\": mean_val_loss,\n",
    "        }\n",
    "        if mean_val_dice > self.best_val_dice:\n",
    "            self.best_val_dice = mean_val_dice\n",
    "            self.best_val_epoch = self.current_epoch\n",
    "        print(\n",
    "            f\"current epoch: {self.current_epoch} \"\n",
    "            f\"current mean dice: {mean_val_dice:.4f}\"\n",
    "            f\"\\nbest mean dice: {self.best_val_dice:.4f} \"\n",
    "            f\"at epoch: {self.best_val_epoch}\"\n",
    "        )\n",
    "        return {\"log\": tensorboard_logs}"
   ]
  },
  {
   "cell_type": "code",
   "execution_count": 4,
   "metadata": {},
   "outputs": [
    {
     "name": "stderr",
     "output_type": "stream",
     "text": [
      "GPU available: True, used: True\n",
      "TPU available: False, using: 0 TPU cores\n",
      "CUDA_VISIBLE_DEVICES: [0]\n"
     ]
    },
    {
     "name": "stdout",
     "output_type": "stream",
     "text": [
      "======================================================================\n",
      "Layer (type:depth-idx)                        Param #\n",
      "======================================================================\n",
      "├─Sequential: 1-1                             --\n",
      "|    └─ResidualUnit: 2-1                      --\n",
      "|    |    └─Sequential: 3-1                   7,442\n",
      "|    |    └─Conv3d: 3-2                       448\n",
      "|    └─SkipConnection: 2-2                    --\n",
      "|    |    └─Sequential: 3-3                   4,799,182\n",
      "|    └─Sequential: 2-3                        --\n",
      "|    |    └─Convolution: 3-4                  868\n",
      "|    |    └─ResidualUnit: 3-5                 28\n",
      "======================================================================\n",
      "Total params: 4,807,968\n",
      "Trainable params: 4,807,968\n",
      "Non-trainable params: 0\n",
      "======================================================================\n",
      "Train Data Size 8\n"
     ]
    },
    {
     "name": "stderr",
     "output_type": "stream",
     "text": [
      "/home/wolfda/anaconda3/envs/Monai/lib/python3.9/site-packages/pytorch_lightning/utilities/distributed.py:37: UserWarning: Could not log computational graph since the `model.example_input_array` attribute is not set or `input_array` was not given\n",
      "  warnings.warn(*args, **kwargs)\n",
      "\n",
      "  | Name          | Type     | Params\n",
      "-------------------------------------------\n",
      "0 | _model        | UNet     | 4 M   \n",
      "1 | loss_function | DiceLoss | 0     \n"
     ]
    },
    {
     "name": "stdout",
     "output_type": "stream",
     "text": [
      "Val Data Loader 2\n"
     ]
    },
    {
     "data": {
      "application/vnd.jupyter.widget-view+json": {
       "model_id": "",
       "version_major": 2,
       "version_minor": 0
      },
      "text/plain": [
       "Validation sanity check: 0it [00:00, ?it/s]"
      ]
     },
     "metadata": {},
     "output_type": "display_data"
    },
    {
     "name": "stdout",
     "output_type": "stream",
     "text": [
      "tensor(1.5162, device='cuda:0')\n",
      "current epoch: 0 current mean dice: 0.0000\n",
      "best mean dice: 0.0000 at epoch: 0\n",
      "Train Data Loader | Bs: 2 | len 4\n",
      "Val Data Loader 2\n"
     ]
    },
    {
     "name": "stderr",
     "output_type": "stream",
     "text": [
      "/home/wolfda/anaconda3/envs/Monai/lib/python3.9/site-packages/monai/losses/dice.py:121: UserWarning: single channel prediction, `softmax=True` ignored.\n",
      "  warnings.warn(\"single channel prediction, `softmax=True` ignored.\")\n",
      "/home/wolfda/anaconda3/envs/Monai/lib/python3.9/site-packages/monai/losses/dice.py:130: UserWarning: single channel prediction, `to_onehot_y=True` ignored.\n",
      "  warnings.warn(\"single channel prediction, `to_onehot_y=True` ignored.\")\n"
     ]
    },
    {
     "data": {
      "application/vnd.jupyter.widget-view+json": {
       "model_id": "13b39b60602544e7a5fcb360c9e3d734",
       "version_major": 2,
       "version_minor": 0
      },
      "text/plain": [
       "Training: 0it [00:00, ?it/s]"
      ]
     },
     "metadata": {},
     "output_type": "display_data"
    },
    {
     "data": {
      "application/vnd.jupyter.widget-view+json": {
       "model_id": "",
       "version_major": 2,
       "version_minor": 0
      },
      "text/plain": [
       "Validating: 0it [00:00, ?it/s]"
      ]
     },
     "metadata": {},
     "output_type": "display_data"
    },
    {
     "name": "stdout",
     "output_type": "stream",
     "text": [
      "tensor(1.9531, device='cuda:0')\n",
      "tensor(1.6508, device='cuda:0')\n",
      "current epoch: 0 current mean dice: 0.0000\n",
      "best mean dice: 0.0000 at epoch: 0\n",
      "Train Loss Mean tensor(0.4779)\n"
     ]
    },
    {
     "data": {
      "application/vnd.jupyter.widget-view+json": {
       "model_id": "",
       "version_major": 2,
       "version_minor": 0
      },
      "text/plain": [
       "Validating: 0it [00:00, ?it/s]"
      ]
     },
     "metadata": {},
     "output_type": "display_data"
    },
    {
     "name": "stdout",
     "output_type": "stream",
     "text": [
      "tensor(0.8972, device='cuda:0')\n",
      "tensor(0.8555, device='cuda:0')\n",
      "current epoch: 1 current mean dice: 0.0000\n",
      "best mean dice: 0.0000 at epoch: 0\n",
      "Train Loss Mean tensor(0.1465)\n"
     ]
    },
    {
     "data": {
      "application/vnd.jupyter.widget-view+json": {
       "model_id": "",
       "version_major": 2,
       "version_minor": 0
      },
      "text/plain": [
       "Validating: 0it [00:00, ?it/s]"
      ]
     },
     "metadata": {},
     "output_type": "display_data"
    },
    {
     "name": "stdout",
     "output_type": "stream",
     "text": [
      "tensor(0.6486, device='cuda:0')\n",
      "tensor(0.6155, device='cuda:0')\n",
      "current epoch: 2 current mean dice: 0.0000\n",
      "best mean dice: 0.0000 at epoch: 0\n",
      "Train Loss Mean tensor(0.3962)\n"
     ]
    },
    {
     "data": {
      "application/vnd.jupyter.widget-view+json": {
       "model_id": "",
       "version_major": 2,
       "version_minor": 0
      },
      "text/plain": [
       "Validating: 0it [00:00, ?it/s]"
      ]
     },
     "metadata": {},
     "output_type": "display_data"
    },
    {
     "name": "stdout",
     "output_type": "stream",
     "text": [
      "tensor(0.5954, device='cuda:0')\n",
      "tensor(0.5901, device='cuda:0')\n",
      "current epoch: 3 current mean dice: 0.0000\n",
      "best mean dice: 0.0000 at epoch: 0\n",
      "Train Loss Mean tensor(0.4898)\n"
     ]
    },
    {
     "data": {
      "application/vnd.jupyter.widget-view+json": {
       "model_id": "",
       "version_major": 2,
       "version_minor": 0
      },
      "text/plain": [
       "Validating: 0it [00:00, ?it/s]"
      ]
     },
     "metadata": {},
     "output_type": "display_data"
    },
    {
     "name": "stdout",
     "output_type": "stream",
     "text": [
      "tensor(1.2865, device='cuda:0')\n",
      "tensor(0.5101, device='cuda:0')\n",
      "current epoch: 4 current mean dice: 0.0000\n",
      "best mean dice: 0.0000 at epoch: 0\n",
      "Train Loss Mean tensor(-0.2650)\n"
     ]
    },
    {
     "data": {
      "application/vnd.jupyter.widget-view+json": {
       "model_id": "",
       "version_major": 2,
       "version_minor": 0
      },
      "text/plain": [
       "Validating: 0it [00:00, ?it/s]"
      ]
     },
     "metadata": {},
     "output_type": "display_data"
    },
    {
     "name": "stdout",
     "output_type": "stream",
     "text": [
      "tensor(0.6724, device='cuda:0')\n",
      "tensor(0.4858, device='cuda:0')\n",
      "current epoch: 5 current mean dice: 0.0000\n",
      "best mean dice: 0.0000 at epoch: 0\n",
      "Train Loss Mean tensor(1.2481)\n"
     ]
    },
    {
     "data": {
      "application/vnd.jupyter.widget-view+json": {
       "model_id": "",
       "version_major": 2,
       "version_minor": 0
      },
      "text/plain": [
       "Validating: 0it [00:00, ?it/s]"
      ]
     },
     "metadata": {},
     "output_type": "display_data"
    },
    {
     "name": "stdout",
     "output_type": "stream",
     "text": [
      "tensor(0.8984, device='cuda:0')\n",
      "tensor(0.6379, device='cuda:0')\n",
      "current epoch: 6 current mean dice: 0.0000\n",
      "best mean dice: 0.0000 at epoch: 0\n",
      "Train Loss Mean tensor(-2.4229)\n"
     ]
    },
    {
     "data": {
      "application/vnd.jupyter.widget-view+json": {
       "model_id": "",
       "version_major": 2,
       "version_minor": 0
      },
      "text/plain": [
       "Validating: 0it [00:00, ?it/s]"
      ]
     },
     "metadata": {},
     "output_type": "display_data"
    },
    {
     "name": "stdout",
     "output_type": "stream",
     "text": [
      "tensor(0.8337, device='cuda:0')\n",
      "tensor(0.5695, device='cuda:0')\n",
      "current epoch: 7 current mean dice: 0.0000\n",
      "best mean dice: 0.0000 at epoch: 0\n",
      "Train Loss Mean tensor(-1.4888)\n"
     ]
    },
    {
     "data": {
      "application/vnd.jupyter.widget-view+json": {
       "model_id": "",
       "version_major": 2,
       "version_minor": 0
      },
      "text/plain": [
       "Validating: 0it [00:00, ?it/s]"
      ]
     },
     "metadata": {},
     "output_type": "display_data"
    },
    {
     "name": "stdout",
     "output_type": "stream",
     "text": [
      "tensor(0.6874, device='cuda:0')\n",
      "tensor(0.4067, device='cuda:0')\n",
      "current epoch: 8 current mean dice: 0.0000\n",
      "best mean dice: 0.0000 at epoch: 0\n",
      "Train Loss Mean tensor(0.6984)\n"
     ]
    },
    {
     "data": {
      "application/vnd.jupyter.widget-view+json": {
       "model_id": "",
       "version_major": 2,
       "version_minor": 0
      },
      "text/plain": [
       "Validating: 0it [00:00, ?it/s]"
      ]
     },
     "metadata": {},
     "output_type": "display_data"
    },
    {
     "name": "stdout",
     "output_type": "stream",
     "text": [
      "tensor(0.6506, device='cuda:0')\n",
      "tensor(0.3085, device='cuda:0')\n",
      "current epoch: 9 current mean dice: 0.0000\n",
      "best mean dice: 0.0000 at epoch: 0\n",
      "Train Loss Mean tensor(0.6665)\n"
     ]
    },
    {
     "data": {
      "application/vnd.jupyter.widget-view+json": {
       "model_id": "",
       "version_major": 2,
       "version_minor": 0
      },
      "text/plain": [
       "Validating: 0it [00:00, ?it/s]"
      ]
     },
     "metadata": {},
     "output_type": "display_data"
    },
    {
     "name": "stdout",
     "output_type": "stream",
     "text": [
      "tensor(0.6358, device='cuda:0')\n",
      "tensor(0.2678, device='cuda:0')\n",
      "current epoch: 10 current mean dice: 0.0000\n",
      "best mean dice: 0.0000 at epoch: 0\n",
      "Train Loss Mean tensor(1.0552)\n"
     ]
    },
    {
     "data": {
      "application/vnd.jupyter.widget-view+json": {
       "model_id": "",
       "version_major": 2,
       "version_minor": 0
      },
      "text/plain": [
       "Validating: 0it [00:00, ?it/s]"
      ]
     },
     "metadata": {},
     "output_type": "display_data"
    },
    {
     "name": "stdout",
     "output_type": "stream",
     "text": [
      "tensor(0.6433, device='cuda:0')\n",
      "tensor(0.2688, device='cuda:0')\n",
      "current epoch: 11 current mean dice: 0.0000\n",
      "best mean dice: 0.0000 at epoch: 0\n",
      "Train Loss Mean tensor(1.2234)\n"
     ]
    },
    {
     "data": {
      "application/vnd.jupyter.widget-view+json": {
       "model_id": "",
       "version_major": 2,
       "version_minor": 0
      },
      "text/plain": [
       "Validating: 0it [00:00, ?it/s]"
      ]
     },
     "metadata": {},
     "output_type": "display_data"
    },
    {
     "name": "stdout",
     "output_type": "stream",
     "text": [
      "tensor(0.6480, device='cuda:0')\n",
      "tensor(0.2730, device='cuda:0')\n",
      "current epoch: 12 current mean dice: 0.0000\n",
      "best mean dice: 0.0000 at epoch: 0\n",
      "Train Loss Mean tensor(1.0108)\n"
     ]
    },
    {
     "data": {
      "application/vnd.jupyter.widget-view+json": {
       "model_id": "",
       "version_major": 2,
       "version_minor": 0
      },
      "text/plain": [
       "Validating: 0it [00:00, ?it/s]"
      ]
     },
     "metadata": {},
     "output_type": "display_data"
    },
    {
     "name": "stdout",
     "output_type": "stream",
     "text": [
      "tensor(0.6499, device='cuda:0')\n",
      "tensor(0.2724, device='cuda:0')\n",
      "current epoch: 13 current mean dice: 0.0000\n",
      "best mean dice: 0.0000 at epoch: 0\n",
      "Train Loss Mean tensor(0.8975)\n"
     ]
    },
    {
     "data": {
      "application/vnd.jupyter.widget-view+json": {
       "model_id": "",
       "version_major": 2,
       "version_minor": 0
      },
      "text/plain": [
       "Validating: 0it [00:00, ?it/s]"
      ]
     },
     "metadata": {},
     "output_type": "display_data"
    },
    {
     "name": "stdout",
     "output_type": "stream",
     "text": [
      "tensor(0.6605, device='cuda:0')\n",
      "tensor(0.2878, device='cuda:0')\n",
      "current epoch: 14 current mean dice: 0.0000\n",
      "best mean dice: 0.0000 at epoch: 0\n",
      "Train Loss Mean tensor(0.9155)\n"
     ]
    },
    {
     "data": {
      "application/vnd.jupyter.widget-view+json": {
       "model_id": "",
       "version_major": 2,
       "version_minor": 0
      },
      "text/plain": [
       "Validating: 0it [00:00, ?it/s]"
      ]
     },
     "metadata": {},
     "output_type": "display_data"
    },
    {
     "name": "stdout",
     "output_type": "stream",
     "text": [
      "tensor(0.6725, device='cuda:0')\n",
      "tensor(0.3047, device='cuda:0')\n",
      "current epoch: 15 current mean dice: 0.0000\n",
      "best mean dice: 0.0000 at epoch: 0\n",
      "Train Loss Mean tensor(0.8949)\n"
     ]
    },
    {
     "data": {
      "application/vnd.jupyter.widget-view+json": {
       "model_id": "",
       "version_major": 2,
       "version_minor": 0
      },
      "text/plain": [
       "Validating: 0it [00:00, ?it/s]"
      ]
     },
     "metadata": {},
     "output_type": "display_data"
    },
    {
     "name": "stdout",
     "output_type": "stream",
     "text": [
      "tensor(0.6795, device='cuda:0')\n",
      "tensor(0.3173, device='cuda:0')\n",
      "current epoch: 16 current mean dice: 0.0000\n",
      "best mean dice: 0.0000 at epoch: 0\n",
      "Train Loss Mean tensor(0.8819)\n"
     ]
    },
    {
     "data": {
      "application/vnd.jupyter.widget-view+json": {
       "model_id": "",
       "version_major": 2,
       "version_minor": 0
      },
      "text/plain": [
       "Validating: 0it [00:00, ?it/s]"
      ]
     },
     "metadata": {},
     "output_type": "display_data"
    },
    {
     "name": "stdout",
     "output_type": "stream",
     "text": [
      "tensor(0.6877, device='cuda:0')\n",
      "tensor(0.3306, device='cuda:0')\n",
      "current epoch: 17 current mean dice: 0.0000\n",
      "best mean dice: 0.0000 at epoch: 0\n",
      "Train Loss Mean tensor(0.8680)\n"
     ]
    },
    {
     "data": {
      "application/vnd.jupyter.widget-view+json": {
       "model_id": "",
       "version_major": 2,
       "version_minor": 0
      },
      "text/plain": [
       "Validating: 0it [00:00, ?it/s]"
      ]
     },
     "metadata": {},
     "output_type": "display_data"
    },
    {
     "name": "stdout",
     "output_type": "stream",
     "text": [
      "tensor(0.6948, device='cuda:0')\n",
      "tensor(0.3416, device='cuda:0')\n",
      "current epoch: 18 current mean dice: 0.0000\n",
      "best mean dice: 0.0000 at epoch: 0\n",
      "Train Loss Mean tensor(0.8628)\n"
     ]
    },
    {
     "data": {
      "application/vnd.jupyter.widget-view+json": {
       "model_id": "",
       "version_major": 2,
       "version_minor": 0
      },
      "text/plain": [
       "Validating: 0it [00:00, ?it/s]"
      ]
     },
     "metadata": {},
     "output_type": "display_data"
    },
    {
     "name": "stdout",
     "output_type": "stream",
     "text": [
      "tensor(0.6904, device='cuda:0')\n",
      "tensor(0.3416, device='cuda:0')\n",
      "current epoch: 19 current mean dice: 0.0000\n",
      "best mean dice: 0.0000 at epoch: 0\n",
      "Train Loss Mean tensor(0.8585)\n"
     ]
    },
    {
     "data": {
      "application/vnd.jupyter.widget-view+json": {
       "model_id": "",
       "version_major": 2,
       "version_minor": 0
      },
      "text/plain": [
       "Validating: 0it [00:00, ?it/s]"
      ]
     },
     "metadata": {},
     "output_type": "display_data"
    },
    {
     "name": "stdout",
     "output_type": "stream",
     "text": [
      "tensor(0.6986, device='cuda:0')\n",
      "tensor(0.3509, device='cuda:0')\n",
      "current epoch: 20 current mean dice: 0.0000\n",
      "best mean dice: 0.0000 at epoch: 0\n",
      "Train Loss Mean tensor(0.8511)\n"
     ]
    },
    {
     "data": {
      "application/vnd.jupyter.widget-view+json": {
       "model_id": "",
       "version_major": 2,
       "version_minor": 0
      },
      "text/plain": [
       "Validating: 0it [00:00, ?it/s]"
      ]
     },
     "metadata": {},
     "output_type": "display_data"
    },
    {
     "name": "stdout",
     "output_type": "stream",
     "text": [
      "tensor(0.7067, device='cuda:0')\n",
      "tensor(0.3620, device='cuda:0')\n",
      "current epoch: 21 current mean dice: 0.0000\n",
      "best mean dice: 0.0000 at epoch: 0\n",
      "Train Loss Mean tensor(0.8418)\n"
     ]
    },
    {
     "data": {
      "application/vnd.jupyter.widget-view+json": {
       "model_id": "",
       "version_major": 2,
       "version_minor": 0
      },
      "text/plain": [
       "Validating: 0it [00:00, ?it/s]"
      ]
     },
     "metadata": {},
     "output_type": "display_data"
    },
    {
     "name": "stdout",
     "output_type": "stream",
     "text": [
      "tensor(0.7064, device='cuda:0')\n",
      "tensor(0.3638, device='cuda:0')\n",
      "current epoch: 22 current mean dice: 0.0000\n",
      "best mean dice: 0.0000 at epoch: 0\n",
      "Train Loss Mean tensor(0.8584)\n"
     ]
    },
    {
     "data": {
      "application/vnd.jupyter.widget-view+json": {
       "model_id": "",
       "version_major": 2,
       "version_minor": 0
      },
      "text/plain": [
       "Validating: 0it [00:00, ?it/s]"
      ]
     },
     "metadata": {},
     "output_type": "display_data"
    },
    {
     "name": "stdout",
     "output_type": "stream",
     "text": [
      "tensor(0.7081, device='cuda:0')\n",
      "tensor(0.3671, device='cuda:0')\n",
      "current epoch: 23 current mean dice: 0.0000\n",
      "best mean dice: 0.0000 at epoch: 0\n",
      "Train Loss Mean tensor(0.8157)\n"
     ]
    },
    {
     "data": {
      "application/vnd.jupyter.widget-view+json": {
       "model_id": "",
       "version_major": 2,
       "version_minor": 0
      },
      "text/plain": [
       "Validating: 0it [00:00, ?it/s]"
      ]
     },
     "metadata": {},
     "output_type": "display_data"
    },
    {
     "name": "stdout",
     "output_type": "stream",
     "text": [
      "tensor(0.7108, device='cuda:0')\n",
      "tensor(0.3724, device='cuda:0')\n",
      "current epoch: 24 current mean dice: 0.0000\n",
      "best mean dice: 0.0000 at epoch: 0\n",
      "Train Loss Mean tensor(0.8366)\n"
     ]
    },
    {
     "data": {
      "application/vnd.jupyter.widget-view+json": {
       "model_id": "",
       "version_major": 2,
       "version_minor": 0
      },
      "text/plain": [
       "Validating: 0it [00:00, ?it/s]"
      ]
     },
     "metadata": {},
     "output_type": "display_data"
    },
    {
     "name": "stdout",
     "output_type": "stream",
     "text": [
      "tensor(0.7108, device='cuda:0')\n",
      "tensor(0.3694, device='cuda:0')\n",
      "current epoch: 25 current mean dice: 0.0000\n",
      "best mean dice: 0.0000 at epoch: 0\n",
      "Train Loss Mean tensor(0.8243)\n"
     ]
    },
    {
     "data": {
      "application/vnd.jupyter.widget-view+json": {
       "model_id": "",
       "version_major": 2,
       "version_minor": 0
      },
      "text/plain": [
       "Validating: 0it [00:00, ?it/s]"
      ]
     },
     "metadata": {},
     "output_type": "display_data"
    },
    {
     "name": "stdout",
     "output_type": "stream",
     "text": [
      "tensor(0.7138, device='cuda:0')\n",
      "tensor(0.3728, device='cuda:0')\n",
      "current epoch: 26 current mean dice: 0.0000\n",
      "best mean dice: 0.0000 at epoch: 0\n",
      "Train Loss Mean tensor(0.8441)\n"
     ]
    },
    {
     "data": {
      "application/vnd.jupyter.widget-view+json": {
       "model_id": "",
       "version_major": 2,
       "version_minor": 0
      },
      "text/plain": [
       "Validating: 0it [00:00, ?it/s]"
      ]
     },
     "metadata": {},
     "output_type": "display_data"
    },
    {
     "name": "stdout",
     "output_type": "stream",
     "text": [
      "tensor(0.7169, device='cuda:0')\n",
      "tensor(0.3772, device='cuda:0')\n",
      "current epoch: 27 current mean dice: 0.0000\n",
      "best mean dice: 0.0000 at epoch: 0\n",
      "Train Loss Mean tensor(0.8253)\n"
     ]
    },
    {
     "data": {
      "application/vnd.jupyter.widget-view+json": {
       "model_id": "",
       "version_major": 2,
       "version_minor": 0
      },
      "text/plain": [
       "Validating: 0it [00:00, ?it/s]"
      ]
     },
     "metadata": {},
     "output_type": "display_data"
    },
    {
     "name": "stdout",
     "output_type": "stream",
     "text": [
      "tensor(0.7195, device='cuda:0')\n",
      "tensor(0.3782, device='cuda:0')\n",
      "current epoch: 28 current mean dice: 0.0000\n",
      "best mean dice: 0.0000 at epoch: 0\n",
      "Train Loss Mean tensor(0.8082)\n"
     ]
    },
    {
     "data": {
      "application/vnd.jupyter.widget-view+json": {
       "model_id": "",
       "version_major": 2,
       "version_minor": 0
      },
      "text/plain": [
       "Validating: 0it [00:00, ?it/s]"
      ]
     },
     "metadata": {},
     "output_type": "display_data"
    },
    {
     "name": "stdout",
     "output_type": "stream",
     "text": [
      "tensor(0.7204, device='cuda:0')\n",
      "tensor(0.3826, device='cuda:0')\n",
      "current epoch: 29 current mean dice: 0.0000\n",
      "best mean dice: 0.0000 at epoch: 0\n",
      "Train Loss Mean tensor(0.8033)\n"
     ]
    },
    {
     "data": {
      "application/vnd.jupyter.widget-view+json": {
       "model_id": "",
       "version_major": 2,
       "version_minor": 0
      },
      "text/plain": [
       "Validating: 0it [00:00, ?it/s]"
      ]
     },
     "metadata": {},
     "output_type": "display_data"
    },
    {
     "name": "stdout",
     "output_type": "stream",
     "text": [
      "tensor(0.7221, device='cuda:0')\n",
      "tensor(0.3864, device='cuda:0')\n",
      "current epoch: 30 current mean dice: 0.0000\n",
      "best mean dice: 0.0000 at epoch: 0\n",
      "Train Loss Mean tensor(0.7983)\n"
     ]
    },
    {
     "data": {
      "application/vnd.jupyter.widget-view+json": {
       "model_id": "",
       "version_major": 2,
       "version_minor": 0
      },
      "text/plain": [
       "Validating: 0it [00:00, ?it/s]"
      ]
     },
     "metadata": {},
     "output_type": "display_data"
    },
    {
     "name": "stdout",
     "output_type": "stream",
     "text": [
      "tensor(0.7258, device='cuda:0')\n",
      "tensor(0.3903, device='cuda:0')\n",
      "current epoch: 31 current mean dice: 0.0000\n",
      "best mean dice: 0.0000 at epoch: 0\n",
      "Train Loss Mean tensor(0.8006)\n"
     ]
    },
    {
     "data": {
      "application/vnd.jupyter.widget-view+json": {
       "model_id": "",
       "version_major": 2,
       "version_minor": 0
      },
      "text/plain": [
       "Validating: 0it [00:00, ?it/s]"
      ]
     },
     "metadata": {},
     "output_type": "display_data"
    },
    {
     "name": "stdout",
     "output_type": "stream",
     "text": [
      "tensor(0.7240, device='cuda:0')\n",
      "tensor(0.3930, device='cuda:0')\n",
      "current epoch: 32 current mean dice: 0.0000\n",
      "best mean dice: 0.0000 at epoch: 0\n",
      "Train Loss Mean tensor(0.8053)\n"
     ]
    },
    {
     "data": {
      "application/vnd.jupyter.widget-view+json": {
       "model_id": "",
       "version_major": 2,
       "version_minor": 0
      },
      "text/plain": [
       "Validating: 0it [00:00, ?it/s]"
      ]
     },
     "metadata": {},
     "output_type": "display_data"
    },
    {
     "name": "stdout",
     "output_type": "stream",
     "text": [
      "tensor(0.7280, device='cuda:0')\n",
      "tensor(0.3956, device='cuda:0')\n",
      "current epoch: 33 current mean dice: 0.0000\n",
      "best mean dice: 0.0000 at epoch: 0\n",
      "Train Loss Mean tensor(0.8190)\n"
     ]
    },
    {
     "data": {
      "application/vnd.jupyter.widget-view+json": {
       "model_id": "",
       "version_major": 2,
       "version_minor": 0
      },
      "text/plain": [
       "Validating: 0it [00:00, ?it/s]"
      ]
     },
     "metadata": {},
     "output_type": "display_data"
    },
    {
     "name": "stdout",
     "output_type": "stream",
     "text": [
      "tensor(0.7304, device='cuda:0')\n",
      "tensor(0.3976, device='cuda:0')\n",
      "current epoch: 34 current mean dice: 0.0000\n",
      "best mean dice: 0.0000 at epoch: 0\n",
      "Train Loss Mean tensor(0.7957)\n"
     ]
    },
    {
     "data": {
      "application/vnd.jupyter.widget-view+json": {
       "model_id": "",
       "version_major": 2,
       "version_minor": 0
      },
      "text/plain": [
       "Validating: 0it [00:00, ?it/s]"
      ]
     },
     "metadata": {},
     "output_type": "display_data"
    },
    {
     "name": "stdout",
     "output_type": "stream",
     "text": [
      "tensor(0.7330, device='cuda:0')\n",
      "tensor(0.4020, device='cuda:0')\n",
      "current epoch: 35 current mean dice: 0.0000\n",
      "best mean dice: 0.0000 at epoch: 0\n",
      "Train Loss Mean tensor(0.7880)\n"
     ]
    },
    {
     "data": {
      "application/vnd.jupyter.widget-view+json": {
       "model_id": "",
       "version_major": 2,
       "version_minor": 0
      },
      "text/plain": [
       "Validating: 0it [00:00, ?it/s]"
      ]
     },
     "metadata": {},
     "output_type": "display_data"
    },
    {
     "name": "stdout",
     "output_type": "stream",
     "text": [
      "tensor(0.7339, device='cuda:0')\n",
      "tensor(0.4021, device='cuda:0')\n",
      "current epoch: 36 current mean dice: 0.0000\n",
      "best mean dice: 0.0000 at epoch: 0\n",
      "Train Loss Mean tensor(0.7870)\n"
     ]
    },
    {
     "data": {
      "application/vnd.jupyter.widget-view+json": {
       "model_id": "",
       "version_major": 2,
       "version_minor": 0
      },
      "text/plain": [
       "Validating: 0it [00:00, ?it/s]"
      ]
     },
     "metadata": {},
     "output_type": "display_data"
    },
    {
     "name": "stdout",
     "output_type": "stream",
     "text": [
      "tensor(0.7328, device='cuda:0')\n",
      "tensor(0.4047, device='cuda:0')\n",
      "current epoch: 37 current mean dice: 0.0000\n",
      "best mean dice: 0.0000 at epoch: 0\n",
      "Train Loss Mean tensor(0.7867)\n"
     ]
    },
    {
     "data": {
      "application/vnd.jupyter.widget-view+json": {
       "model_id": "",
       "version_major": 2,
       "version_minor": 0
      },
      "text/plain": [
       "Validating: 0it [00:00, ?it/s]"
      ]
     },
     "metadata": {},
     "output_type": "display_data"
    },
    {
     "name": "stdout",
     "output_type": "stream",
     "text": [
      "tensor(0.7347, device='cuda:0')\n",
      "tensor(0.4036, device='cuda:0')\n",
      "current epoch: 38 current mean dice: 0.0000\n",
      "best mean dice: 0.0000 at epoch: 0\n",
      "Train Loss Mean tensor(0.7758)\n"
     ]
    },
    {
     "data": {
      "application/vnd.jupyter.widget-view+json": {
       "model_id": "",
       "version_major": 2,
       "version_minor": 0
      },
      "text/plain": [
       "Validating: 0it [00:00, ?it/s]"
      ]
     },
     "metadata": {},
     "output_type": "display_data"
    },
    {
     "name": "stdout",
     "output_type": "stream",
     "text": [
      "tensor(0.7357, device='cuda:0')\n",
      "tensor(0.4019, device='cuda:0')\n",
      "current epoch: 39 current mean dice: 0.0000\n",
      "best mean dice: 0.0000 at epoch: 0\n",
      "Train Loss Mean tensor(0.7667)\n"
     ]
    },
    {
     "data": {
      "application/vnd.jupyter.widget-view+json": {
       "model_id": "",
       "version_major": 2,
       "version_minor": 0
      },
      "text/plain": [
       "Validating: 0it [00:00, ?it/s]"
      ]
     },
     "metadata": {},
     "output_type": "display_data"
    },
    {
     "name": "stdout",
     "output_type": "stream",
     "text": [
      "tensor(0.7387, device='cuda:0')\n",
      "tensor(0.4058, device='cuda:0')\n",
      "current epoch: 40 current mean dice: 0.0000\n",
      "best mean dice: 0.0000 at epoch: 0\n",
      "Train Loss Mean tensor(0.7548)\n"
     ]
    },
    {
     "data": {
      "application/vnd.jupyter.widget-view+json": {
       "model_id": "",
       "version_major": 2,
       "version_minor": 0
      },
      "text/plain": [
       "Validating: 0it [00:00, ?it/s]"
      ]
     },
     "metadata": {},
     "output_type": "display_data"
    },
    {
     "name": "stdout",
     "output_type": "stream",
     "text": [
      "tensor(0.7396, device='cuda:0')\n",
      "tensor(0.4064, device='cuda:0')\n",
      "current epoch: 41 current mean dice: 0.0000\n",
      "best mean dice: 0.0000 at epoch: 0\n",
      "Train Loss Mean tensor(0.7751)\n"
     ]
    },
    {
     "data": {
      "application/vnd.jupyter.widget-view+json": {
       "model_id": "",
       "version_major": 2,
       "version_minor": 0
      },
      "text/plain": [
       "Validating: 0it [00:00, ?it/s]"
      ]
     },
     "metadata": {},
     "output_type": "display_data"
    },
    {
     "name": "stdout",
     "output_type": "stream",
     "text": [
      "tensor(0.7399, device='cuda:0')\n",
      "tensor(0.4086, device='cuda:0')\n",
      "current epoch: 42 current mean dice: 0.0000\n",
      "best mean dice: 0.0000 at epoch: 0\n",
      "Train Loss Mean tensor(0.7567)\n"
     ]
    },
    {
     "data": {
      "application/vnd.jupyter.widget-view+json": {
       "model_id": "",
       "version_major": 2,
       "version_minor": 0
      },
      "text/plain": [
       "Validating: 0it [00:00, ?it/s]"
      ]
     },
     "metadata": {},
     "output_type": "display_data"
    },
    {
     "name": "stdout",
     "output_type": "stream",
     "text": [
      "tensor(0.7439, device='cuda:0')\n",
      "tensor(0.4146, device='cuda:0')\n",
      "current epoch: 43 current mean dice: 0.0000\n",
      "best mean dice: 0.0000 at epoch: 0\n",
      "Train Loss Mean tensor(0.7248)\n"
     ]
    },
    {
     "data": {
      "application/vnd.jupyter.widget-view+json": {
       "model_id": "",
       "version_major": 2,
       "version_minor": 0
      },
      "text/plain": [
       "Validating: 0it [00:00, ?it/s]"
      ]
     },
     "metadata": {},
     "output_type": "display_data"
    },
    {
     "name": "stdout",
     "output_type": "stream",
     "text": [
      "tensor(0.7422, device='cuda:0')\n",
      "tensor(0.4123, device='cuda:0')\n",
      "current epoch: 44 current mean dice: 0.0000\n",
      "best mean dice: 0.0000 at epoch: 0\n",
      "Train Loss Mean tensor(0.7720)\n"
     ]
    },
    {
     "data": {
      "application/vnd.jupyter.widget-view+json": {
       "model_id": "",
       "version_major": 2,
       "version_minor": 0
      },
      "text/plain": [
       "Validating: 0it [00:00, ?it/s]"
      ]
     },
     "metadata": {},
     "output_type": "display_data"
    },
    {
     "name": "stdout",
     "output_type": "stream",
     "text": [
      "tensor(0.7382, device='cuda:0')\n",
      "tensor(0.4075, device='cuda:0')\n",
      "current epoch: 45 current mean dice: 0.0000\n",
      "best mean dice: 0.0000 at epoch: 0\n",
      "Train Loss Mean tensor(0.7555)\n"
     ]
    },
    {
     "data": {
      "application/vnd.jupyter.widget-view+json": {
       "model_id": "",
       "version_major": 2,
       "version_minor": 0
      },
      "text/plain": [
       "Validating: 0it [00:00, ?it/s]"
      ]
     },
     "metadata": {},
     "output_type": "display_data"
    },
    {
     "name": "stdout",
     "output_type": "stream",
     "text": [
      "tensor(0.7433, device='cuda:0')\n",
      "tensor(0.4129, device='cuda:0')\n",
      "current epoch: 46 current mean dice: 0.0000\n",
      "best mean dice: 0.0000 at epoch: 0\n",
      "Train Loss Mean tensor(0.7231)\n"
     ]
    },
    {
     "data": {
      "application/vnd.jupyter.widget-view+json": {
       "model_id": "",
       "version_major": 2,
       "version_minor": 0
      },
      "text/plain": [
       "Validating: 0it [00:00, ?it/s]"
      ]
     },
     "metadata": {},
     "output_type": "display_data"
    },
    {
     "name": "stdout",
     "output_type": "stream",
     "text": [
      "tensor(0.7416, device='cuda:0')\n",
      "tensor(0.4140, device='cuda:0')\n",
      "current epoch: 47 current mean dice: 0.0000\n",
      "best mean dice: 0.0000 at epoch: 0\n",
      "Train Loss Mean tensor(0.7434)\n"
     ]
    },
    {
     "data": {
      "application/vnd.jupyter.widget-view+json": {
       "model_id": "",
       "version_major": 2,
       "version_minor": 0
      },
      "text/plain": [
       "Validating: 0it [00:00, ?it/s]"
      ]
     },
     "metadata": {},
     "output_type": "display_data"
    },
    {
     "name": "stdout",
     "output_type": "stream",
     "text": [
      "tensor(0.7450, device='cuda:0')\n",
      "tensor(0.4184, device='cuda:0')\n",
      "current epoch: 48 current mean dice: 0.0000\n",
      "best mean dice: 0.0000 at epoch: 0\n",
      "Train Loss Mean tensor(0.7071)\n"
     ]
    },
    {
     "data": {
      "application/vnd.jupyter.widget-view+json": {
       "model_id": "",
       "version_major": 2,
       "version_minor": 0
      },
      "text/plain": [
       "Validating: 0it [00:00, ?it/s]"
      ]
     },
     "metadata": {},
     "output_type": "display_data"
    },
    {
     "name": "stdout",
     "output_type": "stream",
     "text": [
      "tensor(0.7480, device='cuda:0')\n",
      "tensor(0.4200, device='cuda:0')\n",
      "current epoch: 49 current mean dice: 0.0000\n",
      "best mean dice: 0.0000 at epoch: 0\n",
      "Train Loss Mean tensor(0.7094)\n"
     ]
    },
    {
     "data": {
      "application/vnd.jupyter.widget-view+json": {
       "model_id": "",
       "version_major": 2,
       "version_minor": 0
      },
      "text/plain": [
       "Validating: 0it [00:00, ?it/s]"
      ]
     },
     "metadata": {},
     "output_type": "display_data"
    },
    {
     "name": "stdout",
     "output_type": "stream",
     "text": [
      "tensor(0.7501, device='cuda:0')\n",
      "tensor(0.4214, device='cuda:0')\n",
      "current epoch: 50 current mean dice: 0.0000\n",
      "best mean dice: 0.0000 at epoch: 0\n",
      "Train Loss Mean tensor(0.7141)\n"
     ]
    },
    {
     "data": {
      "application/vnd.jupyter.widget-view+json": {
       "model_id": "",
       "version_major": 2,
       "version_minor": 0
      },
      "text/plain": [
       "Validating: 0it [00:00, ?it/s]"
      ]
     },
     "metadata": {},
     "output_type": "display_data"
    },
    {
     "name": "stdout",
     "output_type": "stream",
     "text": [
      "tensor(0.7494, device='cuda:0')\n",
      "tensor(0.4186, device='cuda:0')\n",
      "current epoch: 51 current mean dice: 0.0000\n",
      "best mean dice: 0.0000 at epoch: 0\n",
      "Train Loss Mean tensor(0.7092)\n"
     ]
    },
    {
     "data": {
      "application/vnd.jupyter.widget-view+json": {
       "model_id": "",
       "version_major": 2,
       "version_minor": 0
      },
      "text/plain": [
       "Validating: 0it [00:00, ?it/s]"
      ]
     },
     "metadata": {},
     "output_type": "display_data"
    },
    {
     "name": "stdout",
     "output_type": "stream",
     "text": [
      "tensor(0.7504, device='cuda:0')\n",
      "tensor(0.4237, device='cuda:0')\n",
      "current epoch: 52 current mean dice: 0.0000\n",
      "best mean dice: 0.0000 at epoch: 0\n",
      "Train Loss Mean tensor(0.6929)\n"
     ]
    },
    {
     "data": {
      "application/vnd.jupyter.widget-view+json": {
       "model_id": "",
       "version_major": 2,
       "version_minor": 0
      },
      "text/plain": [
       "Validating: 0it [00:00, ?it/s]"
      ]
     },
     "metadata": {},
     "output_type": "display_data"
    },
    {
     "name": "stdout",
     "output_type": "stream",
     "text": [
      "tensor(0.7509, device='cuda:0')\n",
      "tensor(0.4247, device='cuda:0')\n",
      "current epoch: 53 current mean dice: 0.0000\n",
      "best mean dice: 0.0000 at epoch: 0\n",
      "Train Loss Mean tensor(0.6578)\n"
     ]
    },
    {
     "data": {
      "application/vnd.jupyter.widget-view+json": {
       "model_id": "",
       "version_major": 2,
       "version_minor": 0
      },
      "text/plain": [
       "Validating: 0it [00:00, ?it/s]"
      ]
     },
     "metadata": {},
     "output_type": "display_data"
    },
    {
     "name": "stdout",
     "output_type": "stream",
     "text": [
      "tensor(0.7534, device='cuda:0')\n",
      "tensor(0.4290, device='cuda:0')\n",
      "current epoch: 54 current mean dice: 0.0000\n",
      "best mean dice: 0.0000 at epoch: 0\n",
      "Train Loss Mean tensor(0.6986)\n"
     ]
    },
    {
     "data": {
      "application/vnd.jupyter.widget-view+json": {
       "model_id": "",
       "version_major": 2,
       "version_minor": 0
      },
      "text/plain": [
       "Validating: 0it [00:00, ?it/s]"
      ]
     },
     "metadata": {},
     "output_type": "display_data"
    },
    {
     "name": "stdout",
     "output_type": "stream",
     "text": [
      "tensor(0.7497, device='cuda:0')\n",
      "tensor(0.4255, device='cuda:0')\n",
      "current epoch: 55 current mean dice: 0.0000\n",
      "best mean dice: 0.0000 at epoch: 0\n",
      "Train Loss Mean tensor(0.7002)\n"
     ]
    },
    {
     "data": {
      "application/vnd.jupyter.widget-view+json": {
       "model_id": "",
       "version_major": 2,
       "version_minor": 0
      },
      "text/plain": [
       "Validating: 0it [00:00, ?it/s]"
      ]
     },
     "metadata": {},
     "output_type": "display_data"
    },
    {
     "name": "stdout",
     "output_type": "stream",
     "text": [
      "tensor(0.7506, device='cuda:0')\n",
      "tensor(0.4272, device='cuda:0')\n",
      "current epoch: 56 current mean dice: 0.0000\n",
      "best mean dice: 0.0000 at epoch: 0\n",
      "Train Loss Mean tensor(0.6893)\n"
     ]
    },
    {
     "data": {
      "application/vnd.jupyter.widget-view+json": {
       "model_id": "",
       "version_major": 2,
       "version_minor": 0
      },
      "text/plain": [
       "Validating: 0it [00:00, ?it/s]"
      ]
     },
     "metadata": {},
     "output_type": "display_data"
    },
    {
     "name": "stdout",
     "output_type": "stream",
     "text": [
      "tensor(0.7478, device='cuda:0')\n",
      "tensor(0.4257, device='cuda:0')\n",
      "current epoch: 57 current mean dice: 0.0000\n",
      "best mean dice: 0.0000 at epoch: 0\n",
      "Train Loss Mean tensor(0.6693)\n"
     ]
    },
    {
     "data": {
      "application/vnd.jupyter.widget-view+json": {
       "model_id": "",
       "version_major": 2,
       "version_minor": 0
      },
      "text/plain": [
       "Validating: 0it [00:00, ?it/s]"
      ]
     },
     "metadata": {},
     "output_type": "display_data"
    },
    {
     "name": "stdout",
     "output_type": "stream",
     "text": [
      "tensor(0.7514, device='cuda:0')\n",
      "tensor(0.4335, device='cuda:0')\n",
      "current epoch: 58 current mean dice: 0.0000\n",
      "best mean dice: 0.0000 at epoch: 0\n",
      "Train Loss Mean tensor(0.6215)\n"
     ]
    },
    {
     "data": {
      "application/vnd.jupyter.widget-view+json": {
       "model_id": "",
       "version_major": 2,
       "version_minor": 0
      },
      "text/plain": [
       "Validating: 0it [00:00, ?it/s]"
      ]
     },
     "metadata": {},
     "output_type": "display_data"
    },
    {
     "name": "stdout",
     "output_type": "stream",
     "text": [
      "tensor(0.7550, device='cuda:0')\n",
      "tensor(0.4440, device='cuda:0')\n",
      "current epoch: 59 current mean dice: 0.0000\n",
      "best mean dice: 0.0000 at epoch: 0\n",
      "Train Loss Mean tensor(0.6276)\n"
     ]
    },
    {
     "data": {
      "application/vnd.jupyter.widget-view+json": {
       "model_id": "",
       "version_major": 2,
       "version_minor": 0
      },
      "text/plain": [
       "Validating: 0it [00:00, ?it/s]"
      ]
     },
     "metadata": {},
     "output_type": "display_data"
    },
    {
     "name": "stdout",
     "output_type": "stream",
     "text": [
      "tensor(0.7562, device='cuda:0')\n",
      "tensor(0.4472, device='cuda:0')\n",
      "current epoch: 60 current mean dice: 0.0000\n",
      "best mean dice: 0.0000 at epoch: 0\n",
      "Train Loss Mean tensor(0.6183)\n"
     ]
    },
    {
     "data": {
      "application/vnd.jupyter.widget-view+json": {
       "model_id": "",
       "version_major": 2,
       "version_minor": 0
      },
      "text/plain": [
       "Validating: 0it [00:00, ?it/s]"
      ]
     },
     "metadata": {},
     "output_type": "display_data"
    },
    {
     "name": "stdout",
     "output_type": "stream",
     "text": [
      "tensor(0.7487, device='cuda:0')\n",
      "tensor(0.4411, device='cuda:0')\n",
      "current epoch: 61 current mean dice: 0.0000\n",
      "best mean dice: 0.0000 at epoch: 0\n",
      "Train Loss Mean tensor(0.6147)\n"
     ]
    },
    {
     "data": {
      "application/vnd.jupyter.widget-view+json": {
       "model_id": "",
       "version_major": 2,
       "version_minor": 0
      },
      "text/plain": [
       "Validating: 0it [00:00, ?it/s]"
      ]
     },
     "metadata": {},
     "output_type": "display_data"
    },
    {
     "name": "stdout",
     "output_type": "stream",
     "text": [
      "tensor(0.7524, device='cuda:0')\n",
      "tensor(0.4535, device='cuda:0')\n",
      "current epoch: 62 current mean dice: 0.0000\n",
      "best mean dice: 0.0000 at epoch: 0\n",
      "Train Loss Mean tensor(0.5640)\n"
     ]
    },
    {
     "data": {
      "application/vnd.jupyter.widget-view+json": {
       "model_id": "",
       "version_major": 2,
       "version_minor": 0
      },
      "text/plain": [
       "Validating: 0it [00:00, ?it/s]"
      ]
     },
     "metadata": {},
     "output_type": "display_data"
    },
    {
     "name": "stdout",
     "output_type": "stream",
     "text": [
      "tensor(0.7548, device='cuda:0')\n",
      "tensor(0.4614, device='cuda:0')\n",
      "current epoch: 63 current mean dice: 0.0000\n",
      "best mean dice: 0.0000 at epoch: 0\n",
      "Train Loss Mean tensor(0.5696)\n"
     ]
    },
    {
     "data": {
      "application/vnd.jupyter.widget-view+json": {
       "model_id": "",
       "version_major": 2,
       "version_minor": 0
      },
      "text/plain": [
       "Validating: 0it [00:00, ?it/s]"
      ]
     },
     "metadata": {},
     "output_type": "display_data"
    },
    {
     "name": "stdout",
     "output_type": "stream",
     "text": [
      "tensor(0.7495, device='cuda:0')\n",
      "tensor(0.4635, device='cuda:0')\n",
      "current epoch: 64 current mean dice: 0.0000\n",
      "best mean dice: 0.0000 at epoch: 0\n",
      "Train Loss Mean tensor(0.5577)\n"
     ]
    },
    {
     "data": {
      "application/vnd.jupyter.widget-view+json": {
       "model_id": "",
       "version_major": 2,
       "version_minor": 0
      },
      "text/plain": [
       "Validating: 0it [00:00, ?it/s]"
      ]
     },
     "metadata": {},
     "output_type": "display_data"
    },
    {
     "name": "stdout",
     "output_type": "stream",
     "text": [
      "tensor(0.7395, device='cuda:0')\n",
      "tensor(0.4518, device='cuda:0')\n",
      "current epoch: 65 current mean dice: 0.0000\n",
      "best mean dice: 0.0000 at epoch: 0\n",
      "Train Loss Mean tensor(0.5436)\n"
     ]
    },
    {
     "data": {
      "application/vnd.jupyter.widget-view+json": {
       "model_id": "",
       "version_major": 2,
       "version_minor": 0
      },
      "text/plain": [
       "Validating: 0it [00:00, ?it/s]"
      ]
     },
     "metadata": {},
     "output_type": "display_data"
    },
    {
     "name": "stdout",
     "output_type": "stream",
     "text": [
      "tensor(0.7376, device='cuda:0')\n",
      "tensor(0.4572, device='cuda:0')\n",
      "current epoch: 66 current mean dice: 0.0000\n",
      "best mean dice: 0.0000 at epoch: 0\n",
      "Train Loss Mean tensor(0.5195)\n"
     ]
    },
    {
     "data": {
      "application/vnd.jupyter.widget-view+json": {
       "model_id": "",
       "version_major": 2,
       "version_minor": 0
      },
      "text/plain": [
       "Validating: 0it [00:00, ?it/s]"
      ]
     },
     "metadata": {},
     "output_type": "display_data"
    },
    {
     "name": "stdout",
     "output_type": "stream",
     "text": [
      "tensor(0.7427, device='cuda:0')\n",
      "tensor(0.4815, device='cuda:0')\n",
      "current epoch: 67 current mean dice: 0.0000\n",
      "best mean dice: 0.0000 at epoch: 0\n",
      "Train Loss Mean tensor(0.4942)\n"
     ]
    },
    {
     "data": {
      "application/vnd.jupyter.widget-view+json": {
       "model_id": "",
       "version_major": 2,
       "version_minor": 0
      },
      "text/plain": [
       "Validating: 0it [00:00, ?it/s]"
      ]
     },
     "metadata": {},
     "output_type": "display_data"
    },
    {
     "name": "stdout",
     "output_type": "stream",
     "text": [
      "tensor(0.7504, device='cuda:0')\n",
      "tensor(0.5102, device='cuda:0')\n",
      "current epoch: 68 current mean dice: 0.0000\n",
      "best mean dice: 0.0000 at epoch: 0\n",
      "Train Loss Mean tensor(0.4798)\n"
     ]
    },
    {
     "data": {
      "application/vnd.jupyter.widget-view+json": {
       "model_id": "",
       "version_major": 2,
       "version_minor": 0
      },
      "text/plain": [
       "Validating: 0it [00:00, ?it/s]"
      ]
     },
     "metadata": {},
     "output_type": "display_data"
    },
    {
     "name": "stdout",
     "output_type": "stream",
     "text": [
      "tensor(0.7607, device='cuda:0')\n",
      "tensor(0.5465, device='cuda:0')\n",
      "current epoch: 69 current mean dice: 0.0000\n",
      "best mean dice: 0.0000 at epoch: 0\n",
      "Train Loss Mean tensor(0.4479)\n"
     ]
    },
    {
     "data": {
      "application/vnd.jupyter.widget-view+json": {
       "model_id": "",
       "version_major": 2,
       "version_minor": 0
      },
      "text/plain": [
       "Validating: 0it [00:00, ?it/s]"
      ]
     },
     "metadata": {},
     "output_type": "display_data"
    },
    {
     "name": "stdout",
     "output_type": "stream",
     "text": [
      "tensor(0.7795, device='cuda:0')\n",
      "tensor(0.5985, device='cuda:0')\n",
      "current epoch: 70 current mean dice: 0.0000\n",
      "best mean dice: 0.0000 at epoch: 0\n",
      "Train Loss Mean tensor(0.4427)\n"
     ]
    },
    {
     "data": {
      "application/vnd.jupyter.widget-view+json": {
       "model_id": "",
       "version_major": 2,
       "version_minor": 0
      },
      "text/plain": [
       "Validating: 0it [00:00, ?it/s]"
      ]
     },
     "metadata": {},
     "output_type": "display_data"
    },
    {
     "name": "stdout",
     "output_type": "stream",
     "text": [
      "tensor(0.7890, device='cuda:0')\n",
      "tensor(0.6319, device='cuda:0')\n",
      "current epoch: 71 current mean dice: 0.0000\n",
      "best mean dice: 0.0000 at epoch: 0\n",
      "Train Loss Mean tensor(0.4006)\n"
     ]
    },
    {
     "data": {
      "application/vnd.jupyter.widget-view+json": {
       "model_id": "",
       "version_major": 2,
       "version_minor": 0
      },
      "text/plain": [
       "Validating: 0it [00:00, ?it/s]"
      ]
     },
     "metadata": {},
     "output_type": "display_data"
    },
    {
     "name": "stdout",
     "output_type": "stream",
     "text": [
      "tensor(0.7945, device='cuda:0')\n",
      "tensor(0.6633, device='cuda:0')\n",
      "current epoch: 72 current mean dice: 0.0000\n",
      "best mean dice: 0.0000 at epoch: 0\n",
      "Train Loss Mean tensor(0.3843)\n"
     ]
    },
    {
     "data": {
      "application/vnd.jupyter.widget-view+json": {
       "model_id": "",
       "version_major": 2,
       "version_minor": 0
      },
      "text/plain": [
       "Validating: 0it [00:00, ?it/s]"
      ]
     },
     "metadata": {},
     "output_type": "display_data"
    },
    {
     "name": "stdout",
     "output_type": "stream",
     "text": [
      "tensor(0.7799, device='cuda:0')\n",
      "tensor(0.6634, device='cuda:0')\n",
      "current epoch: 73 current mean dice: 0.0000\n",
      "best mean dice: 0.0000 at epoch: 0\n",
      "Train Loss Mean tensor(0.3249)\n"
     ]
    },
    {
     "data": {
      "application/vnd.jupyter.widget-view+json": {
       "model_id": "",
       "version_major": 2,
       "version_minor": 0
      },
      "text/plain": [
       "Validating: 0it [00:00, ?it/s]"
      ]
     },
     "metadata": {},
     "output_type": "display_data"
    },
    {
     "name": "stdout",
     "output_type": "stream",
     "text": [
      "tensor(0.7746, device='cuda:0')\n",
      "tensor(0.6793, device='cuda:0')\n",
      "current epoch: 74 current mean dice: 0.0000\n",
      "best mean dice: 0.0000 at epoch: 0\n",
      "Train Loss Mean tensor(0.2457)\n"
     ]
    },
    {
     "data": {
      "application/vnd.jupyter.widget-view+json": {
       "model_id": "",
       "version_major": 2,
       "version_minor": 0
      },
      "text/plain": [
       "Validating: 0it [00:00, ?it/s]"
      ]
     },
     "metadata": {},
     "output_type": "display_data"
    },
    {
     "name": "stdout",
     "output_type": "stream",
     "text": [
      "tensor(0.7789, device='cuda:0')\n",
      "tensor(0.7169, device='cuda:0')\n",
      "current epoch: 75 current mean dice: 0.0000\n",
      "best mean dice: 0.0000 at epoch: 0\n",
      "Train Loss Mean tensor(0.2319)\n"
     ]
    },
    {
     "data": {
      "application/vnd.jupyter.widget-view+json": {
       "model_id": "",
       "version_major": 2,
       "version_minor": 0
      },
      "text/plain": [
       "Validating: 0it [00:00, ?it/s]"
      ]
     },
     "metadata": {},
     "output_type": "display_data"
    },
    {
     "name": "stdout",
     "output_type": "stream",
     "text": [
      "tensor(0.7673, device='cuda:0')\n",
      "tensor(0.7294, device='cuda:0')\n",
      "current epoch: 76 current mean dice: 0.0000\n",
      "best mean dice: 0.0000 at epoch: 0\n",
      "Train Loss Mean tensor(0.1803)\n"
     ]
    },
    {
     "data": {
      "application/vnd.jupyter.widget-view+json": {
       "model_id": "",
       "version_major": 2,
       "version_minor": 0
      },
      "text/plain": [
       "Validating: 0it [00:00, ?it/s]"
      ]
     },
     "metadata": {},
     "output_type": "display_data"
    },
    {
     "name": "stdout",
     "output_type": "stream",
     "text": [
      "tensor(0.7462, device='cuda:0')\n",
      "tensor(0.7212, device='cuda:0')\n",
      "current epoch: 77 current mean dice: 0.0000\n",
      "best mean dice: 0.0000 at epoch: 0\n",
      "Train Loss Mean tensor(0.1710)\n"
     ]
    },
    {
     "data": {
      "application/vnd.jupyter.widget-view+json": {
       "model_id": "",
       "version_major": 2,
       "version_minor": 0
      },
      "text/plain": [
       "Validating: 0it [00:00, ?it/s]"
      ]
     },
     "metadata": {},
     "output_type": "display_data"
    },
    {
     "name": "stdout",
     "output_type": "stream",
     "text": [
      "tensor(0.7118, device='cuda:0')\n",
      "tensor(0.6769, device='cuda:0')\n",
      "current epoch: 78 current mean dice: 0.0000\n",
      "best mean dice: 0.0000 at epoch: 0\n",
      "Train Loss Mean tensor(0.1472)\n"
     ]
    },
    {
     "data": {
      "application/vnd.jupyter.widget-view+json": {
       "model_id": "",
       "version_major": 2,
       "version_minor": 0
      },
      "text/plain": [
       "Validating: 0it [00:00, ?it/s]"
      ]
     },
     "metadata": {},
     "output_type": "display_data"
    },
    {
     "name": "stdout",
     "output_type": "stream",
     "text": [
      "tensor(0.7382, device='cuda:0')\n",
      "tensor(0.7583, device='cuda:0')\n",
      "current epoch: 79 current mean dice: 0.0000\n",
      "best mean dice: 0.0000 at epoch: 0\n",
      "Train Loss Mean tensor(0.0768)\n"
     ]
    },
    {
     "data": {
      "application/vnd.jupyter.widget-view+json": {
       "model_id": "",
       "version_major": 2,
       "version_minor": 0
      },
      "text/plain": [
       "Validating: 0it [00:00, ?it/s]"
      ]
     },
     "metadata": {},
     "output_type": "display_data"
    },
    {
     "name": "stdout",
     "output_type": "stream",
     "text": [
      "tensor(0.7629, device='cuda:0')\n",
      "tensor(0.8213, device='cuda:0')\n",
      "current epoch: 80 current mean dice: 0.0000\n",
      "best mean dice: 0.0000 at epoch: 0\n",
      "Train Loss Mean tensor(-0.0269)\n"
     ]
    },
    {
     "data": {
      "application/vnd.jupyter.widget-view+json": {
       "model_id": "",
       "version_major": 2,
       "version_minor": 0
      },
      "text/plain": [
       "Validating: 0it [00:00, ?it/s]"
      ]
     },
     "metadata": {},
     "output_type": "display_data"
    },
    {
     "name": "stdout",
     "output_type": "stream",
     "text": [
      "tensor(0.7746, device='cuda:0')\n",
      "tensor(0.8548, device='cuda:0')\n",
      "current epoch: 81 current mean dice: 0.0000\n",
      "best mean dice: 0.0000 at epoch: 0\n",
      "Train Loss Mean tensor(-0.0312)\n"
     ]
    },
    {
     "data": {
      "application/vnd.jupyter.widget-view+json": {
       "model_id": "",
       "version_major": 2,
       "version_minor": 0
      },
      "text/plain": [
       "Validating: 0it [00:00, ?it/s]"
      ]
     },
     "metadata": {},
     "output_type": "display_data"
    },
    {
     "name": "stdout",
     "output_type": "stream",
     "text": [
      "tensor(0.7711, device='cuda:0')\n",
      "tensor(0.8560, device='cuda:0')\n",
      "current epoch: 82 current mean dice: 0.0000\n",
      "best mean dice: 0.0000 at epoch: 0\n",
      "Train Loss Mean tensor(-0.0794)\n"
     ]
    },
    {
     "data": {
      "application/vnd.jupyter.widget-view+json": {
       "model_id": "",
       "version_major": 2,
       "version_minor": 0
      },
      "text/plain": [
       "Validating: 0it [00:00, ?it/s]"
      ]
     },
     "metadata": {},
     "output_type": "display_data"
    },
    {
     "name": "stdout",
     "output_type": "stream",
     "text": [
      "tensor(0.6568, device='cuda:0')\n",
      "tensor(0.5900, device='cuda:0')\n",
      "current epoch: 83 current mean dice: 0.0000\n",
      "best mean dice: 0.0000 at epoch: 0\n",
      "Train Loss Mean tensor(-0.9222)\n"
     ]
    },
    {
     "data": {
      "application/vnd.jupyter.widget-view+json": {
       "model_id": "",
       "version_major": 2,
       "version_minor": 0
      },
      "text/plain": [
       "Validating: 0it [00:00, ?it/s]"
      ]
     },
     "metadata": {},
     "output_type": "display_data"
    },
    {
     "name": "stdout",
     "output_type": "stream",
     "text": [
      "tensor(0.5475, device='cuda:0')\n",
      "tensor(0.3042, device='cuda:0')\n",
      "current epoch: 84 current mean dice: 0.0000\n",
      "best mean dice: 0.0000 at epoch: 0\n",
      "Train Loss Mean tensor(-0.0819)\n"
     ]
    },
    {
     "data": {
      "application/vnd.jupyter.widget-view+json": {
       "model_id": "",
       "version_major": 2,
       "version_minor": 0
      },
      "text/plain": [
       "Validating: 0it [00:00, ?it/s]"
      ]
     },
     "metadata": {},
     "output_type": "display_data"
    },
    {
     "name": "stdout",
     "output_type": "stream",
     "text": [
      "tensor(0.4964, device='cuda:0')\n",
      "tensor(0.1165, device='cuda:0')\n",
      "current epoch: 85 current mean dice: 0.0000\n",
      "best mean dice: 0.0000 at epoch: 0\n",
      "Train Loss Mean tensor(0.0763)\n"
     ]
    },
    {
     "data": {
      "application/vnd.jupyter.widget-view+json": {
       "model_id": "",
       "version_major": 2,
       "version_minor": 0
      },
      "text/plain": [
       "Validating: 0it [00:00, ?it/s]"
      ]
     },
     "metadata": {},
     "output_type": "display_data"
    },
    {
     "name": "stdout",
     "output_type": "stream",
     "text": [
      "tensor(0.5471, device='cuda:0')\n",
      "tensor(0.1554, device='cuda:0')\n",
      "current epoch: 86 current mean dice: 0.0000\n",
      "best mean dice: 0.0000 at epoch: 0\n",
      "Train Loss Mean tensor(0.9456)\n"
     ]
    },
    {
     "data": {
      "application/vnd.jupyter.widget-view+json": {
       "model_id": "",
       "version_major": 2,
       "version_minor": 0
      },
      "text/plain": [
       "Validating: 0it [00:00, ?it/s]"
      ]
     },
     "metadata": {},
     "output_type": "display_data"
    },
    {
     "name": "stdout",
     "output_type": "stream",
     "text": [
      "tensor(0.6770, device='cuda:0')\n",
      "tensor(0.3118, device='cuda:0')\n",
      "current epoch: 87 current mean dice: 0.0000\n",
      "best mean dice: 0.0000 at epoch: 0\n",
      "Train Loss Mean tensor(0.7765)\n"
     ]
    },
    {
     "data": {
      "application/vnd.jupyter.widget-view+json": {
       "model_id": "",
       "version_major": 2,
       "version_minor": 0
      },
      "text/plain": [
       "Validating: 0it [00:00, ?it/s]"
      ]
     },
     "metadata": {},
     "output_type": "display_data"
    },
    {
     "name": "stdout",
     "output_type": "stream",
     "text": [
      "tensor(0.7932, device='cuda:0')\n",
      "tensor(0.4750, device='cuda:0')\n",
      "current epoch: 88 current mean dice: 0.0000\n",
      "best mean dice: 0.0000 at epoch: 0\n",
      "Train Loss Mean tensor(0.7942)\n"
     ]
    },
    {
     "data": {
      "application/vnd.jupyter.widget-view+json": {
       "model_id": "",
       "version_major": 2,
       "version_minor": 0
      },
      "text/plain": [
       "Validating: 0it [00:00, ?it/s]"
      ]
     },
     "metadata": {},
     "output_type": "display_data"
    },
    {
     "name": "stdout",
     "output_type": "stream",
     "text": [
      "tensor(0.8678, device='cuda:0')\n",
      "tensor(0.5962, device='cuda:0')\n",
      "current epoch: 89 current mean dice: 0.0000\n",
      "best mean dice: 0.0000 at epoch: 0\n"
     ]
    },
    {
     "name": "stderr",
     "output_type": "stream",
     "text": [
      "Saving latest checkpoint..\n"
     ]
    },
    {
     "name": "stdout",
     "output_type": "stream",
     "text": [
      "Train Loss Mean tensor(0.7641)\n",
      "Train Data Size 8\n"
     ]
    },
    {
     "data": {
      "application/vnd.jupyter.widget-view+json": {
       "model_id": "7aa17fbbb5f44866a2af62cebc013b32",
       "version_major": 2,
       "version_minor": 0
      },
      "text/plain": [
       "Testing: 0it [00:00, ?it/s]"
      ]
     },
     "metadata": {},
     "output_type": "display_data"
    },
    {
     "name": "stdout",
     "output_type": "stream",
     "text": [
      "tensor(0.8678, device='cuda:0')\n",
      "tensor(0.5962, device='cuda:0')\n",
      "current epoch: 89 current mean dice: 0.0000\n",
      "best mean dice: 0.0000 at epoch: 0\n",
      "--------------------------------------------------------------------------------\n",
      "DATALOADER:0 TEST RESULTS\n",
      "{'test_dice': 0.0, 'test_loss': tensor(0.7320)}\n",
      "--------------------------------------------------------------------------------\n"
     ]
    },
    {
     "data": {
      "text/plain": [
       "[{'test_dice': 0.0, 'test_loss': 0.7319929599761963}]"
      ]
     },
     "execution_count": 4,
     "metadata": {},
     "output_type": "execute_result"
    }
   ],
   "source": [
    "# initialise the LightningModule\n",
    "net = Net()\n",
    "\n",
    "# Pfad zum Speichern: \n",
    "log_dir = os.path.join(root_dir, \"save\", \"model_\" + Model, \"logs\") # tensorboard logs\n",
    "checkpoint_dir = os.path.join(root_dir, \"save\", \"model_\" + Model, \"versuch_\" + Versuch) # model \n",
    "\n",
    "# tensorboard loggers speichern\n",
    "tb_logger = pytorch_lightning.loggers.TensorBoardLogger(save_dir=log_dir)\n",
    "\n",
    "# Netz speichern \n",
    "checkpoint_callback = ModelCheckpoint(\n",
    "    filepath=os.path.join(\n",
    "        log_dir, \"{epoch}-{val_loss:.2f}-{val_dice:.2f}\")\n",
    ")\n",
    "\n",
    "# Netz speichern \n",
    "checkpoint_callback = ModelCheckpoint( #  macht jedes mal ein neuen Ordner auf (logs-\"test1-{epoch}-{val_loss:.2f}\") speichert Stand des letzten Trainingsschritts\n",
    "    filepath=os.path.join(checkpoint_dir, \"{epoch}-{val_loss:.2f}\"), # Speicher Pfad **2\n",
    "    save_last = True, # Speichert den Stand der letzten Epoche des Trainings (Name: last.ckpt)\n",
    "    save_top_k=2, # Speichert den Stand der k=2 besten Epochen [bester val loss] des Trainings (Name: epoch=*-val_loss=*.ckpt)\n",
    ")\n",
    "\n",
    "# Info Speichern\n",
    "torch.save(info, checkpoint_dir + \"/info.pt\")\n",
    "\n",
    "\n",
    "# initialise Lightning's trainer.\n",
    "trainer = pytorch_lightning.Trainer(\n",
    "    gpus=[-1],\n",
    "    max_epochs=Epochen, # Epochen\n",
    "    logger=tb_logger, # tensorboard loggers speichern\n",
    "    checkpoint_callback=checkpoint_callback, # Model checkpoints speichern\n",
    "    num_sanity_val_steps=1,\n",
    ")\n",
    "\n",
    "# Info über das Netz\n",
    "#print(summary(net))\n",
    "\n",
    "# train\n",
    "trainer.fit(net)\n",
    "\n",
    "# test\n",
    "trainer.test(net)"
   ]
  },
  {
   "cell_type": "code",
   "execution_count": 6,
   "metadata": {},
   "outputs": [
    {
     "name": "stdout",
     "output_type": "stream",
     "text": [
      "The tensorboard extension is already loaded. To reload it, use:\n",
      "  %reload_ext tensorboard\n"
     ]
    },
    {
     "data": {
      "text/html": [
       "\n",
       "      <iframe id=\"tensorboard-frame-629f6fbed82c07cd\" width=\"100%\" height=\"800\" frameborder=\"0\">\n",
       "      </iframe>\n",
       "      <script>\n",
       "        (function() {\n",
       "          const frame = document.getElementById(\"tensorboard-frame-629f6fbed82c07cd\");\n",
       "          const url = new URL(\"/\", window.location);\n",
       "          url.port = 6007;\n",
       "          frame.src = url;\n",
       "        })();\n",
       "      </script>\n",
       "  "
      ],
      "text/plain": [
       "<IPython.core.display.HTML object>"
      ]
     },
     "metadata": {},
     "output_type": "display_data"
    }
   ],
   "source": [
    "%load_ext tensorboard\n",
    "%tensorboard --logdir=\"/home/wolfda/Clinic_Data/Data/Leber/Networks/save/model_A/logs\""
   ]
  },
  {
   "cell_type": "code",
   "execution_count": 23,
   "metadata": {},
   "outputs": [
    {
     "name": "stdout",
     "output_type": "stream",
     "text": [
      "Val Data Loader 2\n"
     ]
    },
    {
     "data": {
      "image/png": "[encoded data removed]",
      "text/plain": [
       "<Figure size 1296x432 with 3 Axes>"
      ]
     },
     "metadata": {
      "needs_background": "light"
     },
     "output_type": "display_data"
    },
    {
     "data": {
      "image/png": "[encoded data removed]",
      "text/plain": [
       "<Figure size 1296x432 with 3 Axes>"
      ]
     },
     "metadata": {
      "needs_background": "light"
     },
     "output_type": "display_data"
    }
   ],
   "source": [
    "net.eval()\n",
    "device = torch.device(\"cuda:0\")\n",
    "net.to(device)\n",
    "with torch.no_grad():\n",
    "   \n",
    "    for i, data in enumerate(net.val_dataloader()):\n",
    "        roi_size = (48, 64, 64)\n",
    "        sw_batch_size = 4\n",
    "        val_outputs = sliding_window_inference(\n",
    "            data[0].to(device), roi_size, sw_batch_size, net\n",
    "        )\n",
    "        # plot the slice [:, :, 63]\n",
    "        plt.figure(\"check\", (18, 6))\n",
    "        plt.subplot(1, 3, 1)\n",
    "        plt.title(f\"image {i}\")\n",
    "        plt.imshow(data[0][0, 0, 20, :, :], cmap=\"gray\") # Größe Anpassen\n",
    "        plt.subplot(1, 3, 2)\n",
    "        plt.title(f\"label {i}\")\n",
    "        plt.imshow(data[1][0, 0, 20, :, :]) # Größe anpassen\n",
    "        plt.subplot(1, 3, 3)\n",
    "        plt.title(f\"output {i}\")\n",
    "        plt.imshow(torch.argmax(\n",
    "            val_outputs, dim=1).detach().cpu()[0, 20, :, :]) # Größe anpassen\n",
    "        plt.show()"
   ]
  },
  {
   "cell_type": "code",
   "execution_count": null,
   "metadata": {},
   "outputs": [],
   "source": []
  }
 ],
 "metadata": {
  "kernelspec": {
   "display_name": "Python 3 (ipykernel)",
   "language": "python",
   "name": "python3"
  },
  "language_info": {
   "codemirror_mode": {
    "name": "ipython",
    "version": 3
   },
   "file_extension": ".py",
   "mimetype": "text/x-python",
   "name": "python",
   "nbconvert_exporter": "python",
   "pygments_lexer": "ipython3",
   "version": "3.9.5"
  }
 },
 "nbformat": 4,
 "nbformat_minor": 4
}
